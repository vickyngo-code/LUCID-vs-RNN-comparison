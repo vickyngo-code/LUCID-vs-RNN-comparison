{
  "cells": [
    {
      "cell_type": "code",
      "execution_count": null,
      "metadata": {
        "id": "y6su6pEczxEu"
      },
      "outputs": [],
      "source": [
        "!git clone https://github.com/doriguzzi/lucid-ddos.git"
      ]
    },
    {
      "cell_type": "code",
      "execution_count": null,
      "metadata": {
        "id": "z_Ujo4nxAxR0"
      },
      "outputs": [],
      "source": [
        "!pip install ipython-autotime\n",
        "!pip install pyshark\n",
        "!apt-get install tshark"
      ]
    },
    {
      "cell_type": "code",
      "execution_count": null,
      "metadata": {
        "id": "CahMO_aeBJPI"
      },
      "outputs": [],
      "source": [
        "from tensorflow.python.client import device_lib\n",
        "device_lib.list_local_devices()"
      ]
    },
    {
      "cell_type": "code",
      "execution_count": null,
      "metadata": {
        "id": "Gct6Vw3AReuq"
      },
      "outputs": [],
      "source": [
        "from google.colab import drive\n",
        "drive.mount('/content/drive')"
      ]
    },
    {
      "cell_type": "code",
      "execution_count": null,
      "metadata": {
        "id": "7D3r98t-X_Di"
      },
      "outputs": [],
      "source": [
        "import os\n",
        "os.environ['CUDA_VISIBLE_DEVICES'] = \"0\"\n",
        "import warnings\n",
        "warnings.filterwarnings('always')  # \"error\", \"ignore\", \"always\", \"default\", \"module\" or \"once\""
      ]
    },
    {
      "cell_type": "code",
      "execution_count": null,
      "metadata": {
        "id": "53d9xj3q87lC"
      },
      "outputs": [],
      "source": [
        "cd /content/drive/MyDrive/\"Colab Notebooks\"/lucid-ddos/"
      ]
    },
    {
      "cell_type": "code",
      "execution_count": null,
      "metadata": {
        "id": "MI-LHOrNQL5J"
      },
      "outputs": [],
      "source": [
        "#Preprocess with new datasets\n",
        "!python lucid_dataset_parser.py --dataset_type DOS2019 --dataset_folder ./CIC2019_PCAP/ --packets_per_flow 10 --dataset_id DOS2019 --traffic_type all --time_window 10\n",
        "!python lucid_dataset_parser.py --preprocess_folder ./CIC2019_PCAP/"
      ]
    },
    {
      "cell_type": "code",
      "execution_count": null,
      "metadata": {
        "id": "aZZauk3SQL8_"
      },
      "outputs": [],
      "source": [
        "#Train on new datasets\n",
        "!python lucid_cnn.py --train ./CIC2019_PCAP/  --epochs 100 --regularization l1 --dropout 0.5"
      ]
    },
    {
      "cell_type": "code",
      "source": [
        "#Predict on CICDDoS2019 dataset\n",
        "!python lucid_cnn.py --predict ./CIC2019_PCAP/ --model ./CIC2019_PCAP/10t-10n-DOS2019-LUCID.h5"
      ],
      "metadata": {
        "id": "GxQpyY17J5pE"
      },
      "execution_count": null,
      "outputs": []
    }
  ],
  "metadata": {
    "colab": {
      "collapsed_sections": [],
      "name": "lucid.ipynb",
      "provenance": []
    },
    "kernelspec": {
      "display_name": "Python 3",
      "name": "python3"
    },
    "language_info": {
      "name": "python"
    },
    "gpuClass": "standard",
    "accelerator": "GPU"
  },
  "nbformat": 4,
  "nbformat_minor": 0
}